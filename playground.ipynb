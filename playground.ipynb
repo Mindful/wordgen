{
 "cells": [
  {
   "cell_type": "code",
   "id": "initial_id",
   "metadata": {
    "collapsed": true,
    "ExecuteTime": {
     "end_time": "2024-11-24T19:46:37.747527Z",
     "start_time": "2024-11-24T19:45:49.909843Z"
    }
   },
   "source": [
    "from word_gen import WordGenerator\n",
    "generator = WordGenerator()"
   ],
   "outputs": [
    {
     "name": "stdout",
     "output_type": "stream",
     "text": [
      "Loading gensim model word2vec-google-news-300\n",
      "Loading conceptnet from /home/josh/data/conceptnet\n",
      "Found filtered file at /home/josh/data/conceptnet/filtered.csv reading from it\n"
     ]
    },
    {
     "name": "stderr",
     "output_type": "stream",
     "text": [
      "100%|██████████| 3368477/3368477 [00:11<00:00, 282434.42it/s]\n"
     ]
    },
    {
     "name": "stdout",
     "output_type": "stream",
     "text": [
      "Loaded 1154522 concepts\n",
      "Loading conceptnet from /home/josh/data/conceptnet\n",
      "Found filtered file at /home/josh/data/conceptnet/filtered.csv reading from it\n"
     ]
    },
    {
     "name": "stderr",
     "output_type": "stream",
     "text": [
      "100%|██████████| 3368477/3368477 [00:10<00:00, 316850.98it/s]"
     ]
    },
    {
     "name": "stdout",
     "output_type": "stream",
     "text": [
      "Loaded 1154522 concepts\n"
     ]
    },
    {
     "name": "stderr",
     "output_type": "stream",
     "text": [
      "\n"
     ]
    }
   ],
   "execution_count": 1
  },
  {
   "metadata": {
    "ExecuteTime": {
     "end_time": "2024-11-24T19:47:10.845766Z",
     "start_time": "2024-11-24T19:47:10.834517Z"
    }
   },
   "cell_type": "code",
   "source": [
    "a = generator.generate_word_combinations('cat')\n",
    "for elem in a[:10]:\n",
    "    print(elem)"
   ],
   "id": "4d9dd3c48d8f1b58",
   "outputs": [
    {
     "name": "stdout",
     "output_type": "stream",
     "text": [
      "Combo<animal fur (0.86)>\n",
      "Combo<fur pet (0.85)>\n",
      "Combo<feline fur (0.83)>\n",
      "Combo<fur petting (0.82)>\n",
      "Combo<companionship fur (0.82)>\n",
      "Combo<fur talisman (0.81)>\n",
      "Combo<fur noun (0.81)>\n",
      "Combo<fur mammal (0.81)>\n",
      "Combo<fur hungry (0.79)>\n",
      "Combo<claws fur (0.79)>\n"
     ]
    }
   ],
   "execution_count": 3
  }
 ],
 "metadata": {
  "kernelspec": {
   "display_name": "Python 3",
   "language": "python",
   "name": "python3"
  },
  "language_info": {
   "codemirror_mode": {
    "name": "ipython",
    "version": 2
   },
   "file_extension": ".py",
   "mimetype": "text/x-python",
   "name": "python",
   "nbconvert_exporter": "python",
   "pygments_lexer": "ipython2",
   "version": "2.7.6"
  }
 },
 "nbformat": 4,
 "nbformat_minor": 5
}
